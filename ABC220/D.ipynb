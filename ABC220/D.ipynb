{
 "cells": [
  {
   "cell_type": "code",
   "execution_count": 1,
   "metadata": {},
   "outputs": [
    {
     "data": {
      "application/vnd.jupyter.widget-view+json": {
       "model_id": "7d6d2aa592eb4621b8ae84369a882ed3",
       "version_major": 2,
       "version_minor": 0
      },
      "text/plain": [
       "Textarea(value='')"
      ]
     },
     "metadata": {},
     "output_type": "display_data"
    }
   ],
   "source": [
    "from ipywidgets import Textarea\n",
    "import io\n",
    "import sys  # 使っていないが便宜上\n",
    "\n",
    "if 'open' in globals():\n",
    "    del open\n",
    "if 'input' in globals():\n",
    "    del input\n",
    "\n",
    "original_open = open\n",
    "\n",
    "class custom_open():\n",
    "    def __init__(self):\n",
    "        self.text = ''\n",
    "\n",
    "    def __call__(self, file, *args, **kwargs):\n",
    "        if file == 0:\n",
    "            return io.StringIO(self.text)\n",
    "        return original_open(file, *args, **kwargs)\n",
    "\n",
    "    def updater(self, change):\n",
    "        self.text = change[\"new\"]\n",
    "\n",
    "class custom_input():\n",
    "    def __init__(self):\n",
    "        self.__sio = io.StringIO('')\n",
    "        self.shell = get_ipython()\n",
    "        if self.shell.events.callbacks['pre_run_cell'] != []:\n",
    "            self.shell.events.callbacks['pre_run_cell'] = []\n",
    "        self.shell.events.register('pre_run_cell', self.pre_run_cell)\n",
    "\n",
    "    def __call__(self):\n",
    "        return self.__sio.readline().strip()\n",
    "\n",
    "    def pre_run_cell(self, info):\n",
    "        text = self.shell.user_ns.get('text_area', None).value\n",
    "        self.__sio = io.StringIO(text)\n",
    "\n",
    "open = custom_open()\n",
    "input = custom_input()\n",
    "\n",
    "text_area = Textarea()\n",
    "text_area.observe(open.updater, names='value')\n",
    "display(text_area)"
   ]
  },
  {
   "cell_type": "code",
   "execution_count": 17,
   "metadata": {},
   "outputs": [
    {
     "name": "stdout",
     "output_type": "stream",
     "text": [
      "{(0, 0): [0], (0, 9): [1], (0, 8): [2], (0, 7): [3], (0, 6): [4], (0, 5): [5], (0, 4): [6], (0, 3): [7], (0, 2): [8], (0, 1): [9], (1, 1): [0], (1, 0): [1], (1, 9): [2], (1, 8): [3], (1, 7): [4], (1, 6): [5], (1, 5): [6], (1, 4): [7], (1, 3): [8], (1, 2): [9], (2, 2): [0], (2, 1): [1], (2, 0): [2], (2, 9): [3], (2, 8): [4], (2, 7): [5], (2, 6): [6], (2, 5): [7], (2, 4): [8], (2, 3): [9], (3, 3): [0], (3, 2): [1], (3, 1): [2], (3, 0): [3], (3, 9): [4], (3, 8): [5], (3, 7): [6], (3, 6): [7], (3, 5): [8], (3, 4): [9], (4, 4): [0], (4, 3): [1], (4, 2): [2], (4, 1): [3], (4, 0): [4], (4, 9): [5], (4, 8): [6], (4, 7): [7], (4, 6): [8], (4, 5): [9], (5, 5): [0], (5, 4): [1], (5, 3): [2], (5, 2): [3], (5, 1): [4], (5, 0): [5], (5, 9): [6], (5, 8): [7], (5, 7): [8], (5, 6): [9], (6, 6): [0], (6, 5): [1], (6, 4): [2], (6, 3): [3], (6, 2): [4], (6, 1): [5], (6, 0): [6], (6, 9): [7], (6, 8): [8], (6, 7): [9], (7, 7): [0], (7, 6): [1], (7, 5): [2], (7, 4): [3], (7, 3): [4], (7, 2): [5], (7, 1): [6], (7, 0): [7], (7, 9): [8], (7, 8): [9], (8, 8): [0], (8, 7): [1], (8, 6): [2], (8, 5): [3], (8, 4): [4], (8, 3): [5], (8, 2): [6], (8, 1): [7], (8, 0): [8], (8, 9): [9], (9, 9): [0], (9, 8): [1], (9, 7): [2], (9, 6): [3], (9, 5): [4], (9, 4): [5], (9, 3): [6], (9, 2): [7], (9, 1): [8], (9, 0): [9]}\n",
      "{(0, 0): [0, 1, 2, 3, 4, 5, 6, 7, 8, 9], (0, 1): [0], (0, 2): [0, 5], (0, 3): [0], (0, 4): [0, 5], (0, 5): [0, 2, 4, 6, 8], (0, 6): [0, 5], (0, 7): [0], (0, 8): [0, 5], (0, 9): [0], (1, 1): [1], (1, 7): [3], (1, 3): [7], (1, 9): [9], (2, 2): [1, 6], (2, 1): [2], (2, 6): [2, 7], (2, 4): [3, 8], (2, 3): [4], (2, 8): [4, 9], (2, 7): [6], (2, 9): [8], (3, 3): [1], (3, 1): [3], (3, 9): [7], (3, 7): [9], (4, 4): [1, 6], (4, 2): [2, 7], (4, 7): [2], (4, 8): [3, 8], (4, 1): [4], (4, 6): [4, 9], (4, 9): [6], (4, 3): [8], (5, 5): [1, 3, 5, 7, 9], (5, 1): [5], (5, 3): [5], (5, 7): [5], (5, 9): [5], (6, 6): [1, 6], (6, 3): [2], (6, 8): [2, 7], (6, 2): [3, 8], (6, 4): [4, 9], (6, 9): [4], (6, 1): [6], (6, 7): [8], (7, 7): [1], (7, 9): [3], (7, 1): [7], (7, 3): [9], (8, 8): [1, 6], (8, 4): [2, 7], (8, 9): [2], (8, 6): [3, 8], (8, 2): [4, 9], (8, 7): [4], (8, 3): [6], (8, 1): [8], (9, 9): [1], (9, 3): [3], (9, 7): [7], (9, 1): [9]}\n",
      "18\n",
      "1\n",
      "1\n",
      "1\n",
      "1\n",
      "1\n",
      "1\n",
      "1\n",
      "1\n",
      "1\n"
     ]
    }
   ],
   "source": [
    "N = int( input() )\n",
    "A = reversed(input().split())\n",
    "\n",
    "zy2x_add = {}\n",
    "zy2x_mul = {}\n",
    "for z in range(10):\n",
    "    for x in range(10):\n",
    "        for y in range(10):\n",
    "            if (x+y)%10 == z:\n",
    "                if (z,y) in zy2x_add:\n",
    "                    zy2x_add[(z,y)].append(x)\n",
    "                else:\n",
    "                    zy2x_add[(z,y)] = [x]\n",
    "            if (x*y)%10 == z:\n",
    "                if (z,y) in zy2x_mul:\n",
    "                    zy2x_mul[(z,y)].append(x)\n",
    "                else:\n",
    "                    zy2x_mul[(z,y)] = [x]\n",
    "\n",
    "print( zy2x_add)\n",
    "print(zy2x_mul)\n",
    "for k in range(10):\n",
    "    #print(k)\n",
    "    z = k \n",
    "    p = 1\n",
    "    for nstr in A:\n",
    "        y = int(nstr)\n",
    "        newp = len( zy2x_add[(z,y)]) +   len( zy2x_mul[(z,y)]) \n",
    "        p = p * newp \n",
    "\n",
    "    print(p)    \n",
    "    \n",
    "    "
   ]
  }
 ],
 "metadata": {
  "kernelspec": {
   "display_name": "Python 3",
   "language": "python",
   "name": "python3"
  },
  "language_info": {
   "codemirror_mode": {
    "name": "ipython",
    "version": 3
   },
   "file_extension": ".py",
   "mimetype": "text/x-python",
   "name": "python",
   "nbconvert_exporter": "python",
   "pygments_lexer": "ipython3",
   "version": "3.6.5"
  }
 },
 "nbformat": 4,
 "nbformat_minor": 4
}

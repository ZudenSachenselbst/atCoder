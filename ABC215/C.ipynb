{
 "cells": [
  {
   "cell_type": "code",
   "execution_count": 1,
   "metadata": {},
   "outputs": [
    {
     "data": {
      "application/vnd.jupyter.widget-view+json": {
       "model_id": "488e822b92974d9daa1dbab0494b9ade",
       "version_major": 2,
       "version_minor": 0
      },
      "text/plain": [
       "Textarea(value='')"
      ]
     },
     "metadata": {},
     "output_type": "display_data"
    }
   ],
   "source": [
    "from ipywidgets import Textarea\n",
    "import io\n",
    "import sys  # 使っていないが便宜上\n",
    "\n",
    "if 'open' in globals():\n",
    "    del open\n",
    "if 'input' in globals():\n",
    "    del input\n",
    "\n",
    "original_open = open\n",
    "\n",
    "class custom_open():\n",
    "    def __init__(self):\n",
    "        self.text = ''\n",
    "\n",
    "    def __call__(self, file, *args, **kwargs):\n",
    "        if file == 0:\n",
    "            return io.StringIO(self.text)\n",
    "        return original_open(file, *args, **kwargs)\n",
    "\n",
    "    def updater(self, change):\n",
    "        self.text = change[\"new\"]\n",
    "\n",
    "class custom_input():\n",
    "    def __init__(self):\n",
    "        self.__sio = io.StringIO('')\n",
    "        self.shell = get_ipython()\n",
    "        if self.shell.events.callbacks['pre_run_cell'] != []:\n",
    "            self.shell.events.callbacks['pre_run_cell'] = []\n",
    "        self.shell.events.register('pre_run_cell', self.pre_run_cell)\n",
    "\n",
    "    def __call__(self):\n",
    "        return self.__sio.readline().strip()\n",
    "\n",
    "    def pre_run_cell(self, info):\n",
    "        text = self.shell.user_ns.get('text_area', None).value\n",
    "        self.__sio = io.StringIO(text)\n",
    "\n",
    "open = custom_open()\n",
    "input = custom_input()\n",
    "\n",
    "text_area = Textarea()\n",
    "text_area.observe(open.updater, names='value')\n",
    "display(text_area)"
   ]
  },
  {
   "cell_type": "code",
   "execution_count": null,
   "metadata": {},
   "outputs": [
    {
     "name": "stdout",
     "output_type": "stream",
     "text": [
      "{'b': 2, 'a': 2}\n",
      "[['a', 2], ['b', 2]]\n",
      "p,q= 3 2\n",
      "num= 3\n",
      "p,q= 2 1\n",
      "num= 2\n",
      "p,q= 1 1\n",
      "num= 1\n",
      "p,q= 0 1\n",
      "num= 1\n"
     ]
    }
   ],
   "source": [
    "import math\n",
    "import copy\n",
    "\n",
    "S, K = input().split() \n",
    "K = int(K)\n",
    "c2n = {}\n",
    "for c in list(S):\n",
    "    if c in c2n:\n",
    "        c2n[c] += 1\n",
    "    else:\n",
    "        c2n[c] = 1\n",
    "print(c2n)\n",
    "C2N = []\n",
    "for c in sorted(c2n.keys()):\n",
    "    C2N.append( [c, c2n[c]] )\n",
    "print(C2N)\n",
    "\n",
    "def func(array):\n",
    "    p = 0\n",
    "    q = 1\n",
    "    for item in array:\n",
    "        if item[1] > 0:\n",
    "            p += item[1]\n",
    "            q = q * math.factorial( item[1] )\n",
    "    print(\"p,q=\", p, q)\n",
    "    return  int( math.factorial(p) / q  )\n",
    "\n",
    "order = 0\n",
    "out = \"\"\n",
    "while True:\n",
    "    i = 0\n",
    "    for i in range(len(C2N)):\n",
    "        if C2N[i][1] > 0:\n",
    "            C2N2 = copy.copy(C2N)\n",
    "            C2N2[i][1] -= 1\n",
    "            num = func(C2N2) \n",
    "            print(\"num=\", num)\n",
    "            if order + num < K :\n",
    "                out += C2N[i][0]\n",
    "                order += num\n",
    "                C2N = C2N2\n",
    "                print( i, C2N2)\n",
    "                break\n",
    "            else:\n",
    "                pass\n",
    "            \n",
    "    if order == K:\n",
    "        break\n",
    "print(out)\n",
    "    "
   ]
  },
  {
   "cell_type": "code",
   "execution_count": null,
   "metadata": {},
   "outputs": [],
   "source": []
  }
 ],
 "metadata": {
  "kernelspec": {
   "display_name": "Python 3",
   "language": "python",
   "name": "python3"
  },
  "language_info": {
   "codemirror_mode": {
    "name": "ipython",
    "version": 3
   },
   "file_extension": ".py",
   "mimetype": "text/x-python",
   "name": "python",
   "nbconvert_exporter": "python",
   "pygments_lexer": "ipython3",
   "version": "3.6.5"
  }
 },
 "nbformat": 4,
 "nbformat_minor": 4
}

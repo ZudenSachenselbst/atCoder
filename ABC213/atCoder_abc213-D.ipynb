{
 "cells": [
  {
   "cell_type": "code",
   "execution_count": 1,
   "metadata": {},
   "outputs": [
    {
     "data": {
      "application/vnd.jupyter.widget-view+json": {
       "model_id": "b8467ea20464447a8cb0c7dcf83d4d0d",
       "version_major": 2,
       "version_minor": 0
      },
      "text/plain": [
       "Textarea(value='')"
      ]
     },
     "metadata": {},
     "output_type": "display_data"
    }
   ],
   "source": [
    "from ipywidgets import Textarea\n",
    "import io\n",
    "import sys  # 使っていないが便宜上\n",
    "\n",
    "if 'open' in globals():\n",
    "    del open\n",
    "if 'input' in globals():\n",
    "    del input\n",
    "\n",
    "original_open = open\n",
    "\n",
    "class custom_open():\n",
    "    def __init__(self):\n",
    "        self.text = ''\n",
    "\n",
    "    def __call__(self, file, *args, **kwargs):\n",
    "        if file == 0:\n",
    "            return io.StringIO(self.text)\n",
    "        return original_open(file, *args, **kwargs)\n",
    "\n",
    "    def updater(self, change):\n",
    "        self.text = change[\"new\"]\n",
    "\n",
    "class custom_input():\n",
    "    def __init__(self):\n",
    "        self.__sio = io.StringIO('')\n",
    "        self.shell = get_ipython()\n",
    "        if self.shell.events.callbacks['pre_run_cell'] != []:\n",
    "            self.shell.events.callbacks['pre_run_cell'] = []\n",
    "        self.shell.events.register('pre_run_cell', self.pre_run_cell)\n",
    "\n",
    "    def __call__(self):\n",
    "        return self.__sio.readline().strip()\n",
    "\n",
    "    def pre_run_cell(self, info):\n",
    "        text = self.shell.user_ns.get('text_area', None).value\n",
    "        self.__sio = io.StringIO(text)\n",
    "\n",
    "open = custom_open()\n",
    "input = custom_input()\n",
    "\n",
    "text_area = Textarea()\n",
    "text_area.observe(open.updater, names='value')\n",
    "display(text_area)"
   ]
  },
  {
   "cell_type": "code",
   "execution_count": 22,
   "metadata": {},
   "outputs": [
    {
     "name": "stdout",
     "output_type": "stream",
     "text": [
      "1 2 1 3 1 4 1 5 1\n"
     ]
    }
   ],
   "source": [
    "N =  int( input()) \n",
    "route = {}\n",
    "for i in range(N-1):\n",
    "    A, B = map( int, input().split() ) \n",
    "    if A in route:\n",
    "        route[A].append(B)\n",
    "    else:\n",
    "        route[A] = [B]\n",
    "    if B in route:\n",
    "        route[B].append(A)\n",
    "    else:\n",
    "        route[B] = [A]\n",
    "for x in route:\n",
    "    route[x] = sorted(route[x]) \n",
    "\n",
    "fvf = {1:0}  # first visited from \n",
    "s = 1       \n",
    "track = []\n",
    "while True:\n",
    "    track.append(s)\n",
    "    if len(fvf.keys()) == N and s == 1:\n",
    "        break\n",
    "    else:    \n",
    "        nsc = [x for x in route[s]  if x not in fvf ] # next state cand\n",
    "        if nsc == []:\n",
    "            s = fvf[s] \n",
    "            continue\n",
    "        ns = nsc[0]\n",
    "        fvf[ns] = s\n",
    "        s = ns\n",
    "        continue\n",
    "print( *track )\n",
    "\n",
    "        \n",
    "        "
   ]
  }
 ],
 "metadata": {
  "kernelspec": {
   "display_name": "Python 3",
   "language": "python",
   "name": "python3"
  },
  "language_info": {
   "codemirror_mode": {
    "name": "ipython",
    "version": 3
   },
   "file_extension": ".py",
   "mimetype": "text/x-python",
   "name": "python",
   "nbconvert_exporter": "python",
   "pygments_lexer": "ipython3",
   "version": "3.6.5"
  }
 },
 "nbformat": 4,
 "nbformat_minor": 4
}
